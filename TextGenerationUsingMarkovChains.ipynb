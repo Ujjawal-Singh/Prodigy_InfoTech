{
  "nbformat": 4,
  "nbformat_minor": 0,
  "metadata": {
    "colab": {
      "provenance": [],
      "gpuType": "T4"
    },
    "kernelspec": {
      "name": "python3",
      "display_name": "Python 3"
    },
    "language_info": {
      "name": "python"
    },
    "accelerator": "GPU"
  },
  "cells": [
    {
      "cell_type": "code",
      "execution_count": null,
      "metadata": {
        "id": "eT7Lx_XMS64o",
        "colab": {
          "base_uri": "https://localhost:8080/"
        },
        "outputId": "1a0d7f48-b20d-4ea3-c659-03f5cacdd687"
      },
      "outputs": [
        {
          "output_type": "stream",
          "name": "stdout",
          "text": [
            "Mounted at /content/drive\n"
          ]
        }
      ],
      "source": [
        "from google.colab import drive\n",
        "drive.mount('/content/drive')"
      ]
    },
    {
      "cell_type": "code",
      "source": [
        "%cd /content/drive/My Drive/Colab Notebooks"
      ],
      "metadata": {
        "id": "IExbHIGaTKOO",
        "colab": {
          "base_uri": "https://localhost:8080/"
        },
        "outputId": "17844e84-e44b-44a8-b830-54510cf1b029"
      },
      "execution_count": null,
      "outputs": [
        {
          "output_type": "stream",
          "name": "stdout",
          "text": [
            "/content/drive/My Drive/Colab Notebooks\n"
          ]
        }
      ]
    },
    {
      "cell_type": "code",
      "source": [
        "!pip install markovify"
      ],
      "metadata": {
        "id": "pCaYoQS5TN22",
        "colab": {
          "base_uri": "https://localhost:8080/"
        },
        "outputId": "af7e76d9-87da-4607-b250-751ed0cfc27f"
      },
      "execution_count": null,
      "outputs": [
        {
          "output_type": "stream",
          "name": "stdout",
          "text": [
            "Collecting markovify\n",
            "  Downloading markovify-0.9.4.tar.gz (27 kB)\n",
            "  Preparing metadata (setup.py) ... \u001b[?25l\u001b[?25hdone\n",
            "Collecting unidecode (from markovify)\n",
            "  Downloading Unidecode-1.3.8-py3-none-any.whl.metadata (13 kB)\n",
            "Downloading Unidecode-1.3.8-py3-none-any.whl (235 kB)\n",
            "\u001b[2K   \u001b[90m━━━━━━━━━━━━━━━━━━━━━━━━━━━━━━━━━━━━━━━━\u001b[0m \u001b[32m235.5/235.5 kB\u001b[0m \u001b[31m9.7 MB/s\u001b[0m eta \u001b[36m0:00:00\u001b[0m\n",
            "\u001b[?25hBuilding wheels for collected packages: markovify\n",
            "  Building wheel for markovify (setup.py) ... \u001b[?25l\u001b[?25hdone\n",
            "  Created wheel for markovify: filename=markovify-0.9.4-py3-none-any.whl size=18605 sha256=8203b369f63c06a5e0db0ee16bf37c9485b104203cb74f843803a3fc9b9acecd\n",
            "  Stored in directory: /root/.cache/pip/wheels/ca/8c/c5/41413e24c484f883a100c63ca7b3b0362b7c6f6eb6d7c9cc7f\n",
            "Successfully built markovify\n",
            "Installing collected packages: unidecode, markovify\n",
            "Successfully installed markovify-0.9.4 unidecode-1.3.8\n"
          ]
        }
      ]
    },
    {
      "cell_type": "code",
      "source": [
        "import markovify\n",
        "import pandas as pd\n",
        "df = pd.read_csv(\"/content/drive/MyDrive/airport_reviews.csv\")"
      ],
      "metadata": {
        "id": "Q8nJ5dCWTPvn"
      },
      "execution_count": null,
      "outputs": []
    },
    {
      "cell_type": "code",
      "source": [
        "from itertools import chain\n",
        "N=100\n",
        "review_subset = df[\"content\"][0:N]\n",
        "text = \"\".join(chain.from_iterable(review_subset))\n",
        "markov_chain_model = markovify.Text(text)"
      ],
      "metadata": {
        "id": "k3eNr0lWTSDi"
      },
      "execution_count": null,
      "outputs": []
    },
    {
      "cell_type": "code",
      "source": [
        "for i in range(5):\n",
        "  print(markov_chain_model.make_sentence())"
      ],
      "metadata": {
        "id": "GA_cGxT-TUc5",
        "colab": {
          "base_uri": "https://localhost:8080/"
        },
        "outputId": "4d6795df-3ea0-49d5-e83d-2f0336fc7844"
      },
      "execution_count": null,
      "outputs": [
        {
          "output_type": "stream",
          "name": "stdout",
          "text": [
            "Ryanair does a good organised clean airport transfer from A to Hall B is older but does not involve passing through Brussels take it.Flew from the officer checking my passport.\n",
            "The meter only ticks when you try and get the jetway so we could leave the airport due to large distances and a design combining multiple walkways and escalators.\n",
            "One of two Security Gates has to go through security and entering the departure hall and especially the rip-off taxi-drivers who wait for my drinks.\n",
            "Luggage takes average up to 40 minutes to get from sector A to Hall B is older but does not seem to be decades behind the rest of the other reviews still have a one day stop-over to properly suss out the airport.\n",
            "All in all a clean and the This airport take about 20 years.\n"
          ]
        }
      ]
    },
    {
      "cell_type": "code",
      "source": [
        "for i in range(3):\n",
        "  print(markov_chain_model.make_short_sentence(140))"
      ],
      "metadata": {
        "id": "i5iNk6qhTXdP",
        "colab": {
          "base_uri": "https://localhost:8080/"
        },
        "outputId": "b660248e-bc7e-4256-c4f8-6313fd9c9a83"
      },
      "execution_count": null,
      "outputs": [
        {
          "output_type": "stream",
          "name": "stdout",
          "text": [
            "The new shops toilets restaurants in the handful of cafes.\n",
            "I was then asked to pay for the standard offered.\n",
            "I think the longest I've had to wait in a gymI use Brussels National insteade.This is an inefficient process.\n"
          ]
        }
      ]
    }
  ]
}